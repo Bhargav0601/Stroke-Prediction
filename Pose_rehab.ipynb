{
 "cells": [
  {
   "cell_type": "code",
   "execution_count": 15,
   "id": "d5a8b3a5-9409-4111-8c0d-a9d410cd5cbf",
   "metadata": {},
   "outputs": [],
   "source": [
    "import os\n",
    "import numpy as np\n",
    "import pandas as pd\n",
    "from sklearn.model_selection import train_test_split\n",
    "from sklearn.ensemble import RandomForestClassifier\n",
    "from sklearn.metrics import accuracy_score, classification_report\n",
    "import joblib\n",
    "import zipfile"
   ]
  },
  {
   "cell_type": "code",
   "execution_count": 17,
   "id": "761799a3-6939-45bd-8503-3376622462bc",
   "metadata": {},
   "outputs": [],
   "source": [
    "# Define dataset path\n",
    "zip_path = \"C:\\\\Users\\\\Ananya\\\\Downloads\\\\sem 3\\\\Action learning\\\\files_to_streamlit\\\\archive.zip\"\n",
    "extract_dir = \"C:\\\\Users\\\\Ananya\\\\Downloads\\\\sem 3\\\\Action learning\\\\dataset\"\n",
    "\n",
    "# Extract dataset\n",
    "with zipfile.ZipFile(zip_path, 'r') as zip_ref:\n",
    "    zip_ref.extractall(extract_dir)\n",
    "\n",
    "data_new_path = os.path.join(extract_dir, \"data_new\")\n",
    "participants = os.listdir(data_new_path)\n",
    "\n",
    "# Initialize lists to store features and labels\n",
    "all_features = []\n",
    "all_labels = []"
   ]
  },
  {
   "cell_type": "code",
   "execution_count": 19,
   "id": "17161fd4-472b-45be-8509-b41b4a059778",
   "metadata": {},
   "outputs": [],
   "source": [
    "# Feature extraction function\n",
    "def extract_features(joint_data):\n",
    "    num_frames, num_joints, num_coords = joint_data.shape\n",
    "    features = []\n",
    "    for i in range(num_frames):\n",
    "        frame = joint_data[i]\n",
    "        mean_positions = np.mean(frame, axis=0)\n",
    "        std_positions = np.std(frame, axis=0)\n",
    "        min_positions = np.min(frame, axis=0)\n",
    "        max_positions = np.max(frame, axis=0)\n",
    "        joint_distances = np.linalg.norm(frame - frame[0], axis=1)\n",
    "        mean_distance = np.mean(joint_distances)\n",
    "        std_distance = np.std(joint_distances)\n",
    "        range_positions = max_positions - min_positions  # Range of joint positions\n",
    "        skewness = np.mean((frame - mean_positions) ** 3, axis=0) / (std_positions ** 3 + 1e-8)  # Skewness\n",
    "        feature_vector = np.hstack([mean_positions, std_positions, min_positions, max_positions, range_positions, mean_distance, std_distance, skewness])\n",
    "        features.append(feature_vector)\n",
    "    return np.array(features)"
   ]
  },
  {
   "cell_type": "code",
   "execution_count": 23,
   "id": "4776761f-21dc-4188-a961-80938dcaf2f7",
   "metadata": {},
   "outputs": [],
   "source": [
    "# Process participant data\n",
    "def process_participant(participant):\n",
    "    participant_path = os.path.join(data_new_path, participant)\n",
    "    tasks = os.listdir(participant_path)\n",
    "    for task in tasks:\n",
    "        task_path = os.path.join(participant_path, task)\n",
    "        joint_positions_file = os.path.join(task_path, \"Joint_Positions.csv\")\n",
    "        labels_file = os.path.join(task_path, \"Labels.csv\")\n",
    "        if os.path.exists(joint_positions_file) and os.path.exists(labels_file):\n",
    "            joint_positions = pd.read_csv(joint_positions_file).to_numpy()\n",
    "            labels = pd.read_csv(labels_file).to_numpy().flatten()\n",
    "            num_frames = labels.shape[0]\n",
    "            joint_positions = joint_positions[:num_frames * 25].reshape(num_frames, 25, 3)\n",
    "            features = extract_features(joint_positions)\n",
    "            all_features.append(features)\n",
    "            all_labels.append(labels)\n",
    "\n",
    "# Process all participants\n",
    "for participant in participants:\n",
    "    process_participant(participant)"
   ]
  },
  {
   "cell_type": "code",
   "execution_count": 25,
   "id": "8ae97658-6338-4c13-b799-1e6e897f71be",
   "metadata": {},
   "outputs": [],
   "source": [
    "# Convert lists to numpy arrays\n",
    "X = np.vstack(all_features)\n",
    "y = np.concatenate(all_labels)\n",
    "\n",
    "# Convert labels to binary (Normal: 1, Abnormal: 0)\n",
    "y = np.where(y == 1, \"Normal\", \"Abnormal\")\n",
    "\n",
    "# Split dataset\n",
    "X_train, X_test, y_train, y_test = train_test_split(X, y, test_size=0.2, random_state=42)\n"
   ]
  },
  {
   "cell_type": "code",
   "execution_count": 27,
   "id": "cd283987-d6da-4c04-8b2c-c44c30a63df6",
   "metadata": {},
   "outputs": [
    {
     "name": "stdout",
     "output_type": "stream",
     "text": [
      "Accuracy: 0.9755304101838755\n",
      "              precision    recall  f1-score   support\n",
      "\n",
      "    Abnormal       0.96      0.94      0.95      3844\n",
      "      Normal       0.98      0.99      0.98     10296\n",
      "\n",
      "    accuracy                           0.98     14140\n",
      "   macro avg       0.97      0.97      0.97     14140\n",
      "weighted avg       0.98      0.98      0.98     14140\n",
      "\n"
     ]
    }
   ],
   "source": [
    "# Train Random Forest model\n",
    "clf = RandomForestClassifier(n_estimators=100, random_state=42)\n",
    "clf.fit(X_train, y_train)\n",
    "\n",
    "# Evaluate model\n",
    "y_pred = clf.predict(X_test)\n",
    "print(\"Accuracy:\", accuracy_score(y_test, y_pred))\n",
    "print(classification_report(y_test, y_pred))\n"
   ]
  },
  {
   "cell_type": "code",
   "execution_count": 31,
   "id": "629cf878-2747-4116-8ec2-a98e7a7eb883",
   "metadata": {},
   "outputs": [
    {
     "name": "stdout",
     "output_type": "stream",
     "text": [
      "Model saved as stroke_rehab_final_pose_model.pkl\n"
     ]
    }
   ],
   "source": [
    "# Save trained model\n",
    "model_path = \"stroke_rehab_final_pose_model.pkl\"\n",
    "joblib.dump(clf, model_path)\n",
    "print(f\"Model saved as {model_path}\")"
   ]
  },
  {
   "cell_type": "code",
   "execution_count": null,
   "id": "1fad7156-a0d2-4475-a973-80ce77576edb",
   "metadata": {},
   "outputs": [],
   "source": []
  }
 ],
 "metadata": {
  "kernelspec": {
   "display_name": "Python 3 (ipykernel)",
   "language": "python",
   "name": "python3"
  },
  "language_info": {
   "codemirror_mode": {
    "name": "ipython",
    "version": 3
   },
   "file_extension": ".py",
   "mimetype": "text/x-python",
   "name": "python",
   "nbconvert_exporter": "python",
   "pygments_lexer": "ipython3",
   "version": "3.12.3"
  }
 },
 "nbformat": 4,
 "nbformat_minor": 5
}
